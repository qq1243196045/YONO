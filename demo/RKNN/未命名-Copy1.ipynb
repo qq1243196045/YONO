{
 "cells": [
  {
   "cell_type": "code",
   "execution_count": 1,
   "id": "93540f35",
   "metadata": {},
   "outputs": [],
   "source": [
    "import os\n",
    "import urllib\n",
    "import traceback\n",
    "import time\n",
    "import sys\n",
    "import numpy as np\n",
    "import cv2\n",
    "from utils import preproc as preprocess\n",
    "from rknn.api import RKNN\n",
    "import time\n",
    "from utils import mkdir, multiclass_nms, demo_postprocess, vis\n",
    "from config import Config\n"
   ]
  },
  {
   "cell_type": "code",
   "execution_count": 2,
   "id": "c0eb4cc8",
   "metadata": {},
   "outputs": [],
   "source": [
    "cfg = Config()\n",
    "ONNX_MODEL = '/home/white/PycharmProjects/YOLOX-main/tools/yolox.onnx'\n",
    "RKNN_MODEL = 'yolox.rknn'\n",
    "input_shape = tuple(map(int, \"640,640\".split(',')))"
   ]
  },
  {
   "cell_type": "code",
   "execution_count": 3,
   "id": "3354a69d",
   "metadata": {},
   "outputs": [
    {
     "name": "stderr",
     "output_type": "stream",
     "text": [
      "\u001b[1;33mW\u001b[0m \u001b[1;33mconfig: Generally, when the model input is an image, the range of mean_values/std_values should be in [0, 255], but the value you filled is too small,\n",
      "          please check carefully!\u001b[0m\n"
     ]
    },
    {
     "data": {
      "text/plain": [
       "0"
      ]
     },
     "execution_count": 3,
     "metadata": {},
     "output_type": "execute_result"
    }
   ],
   "source": [
    "rknn = RKNN()\n",
    "rknn.config(mean_values=[0.485,0.456,0.406], std_values=[0.229,0.224,0.225])\n"
   ]
  },
  {
   "cell_type": "code",
   "execution_count": 4,
   "id": "b9709274",
   "metadata": {},
   "outputs": [],
   "source": [
    "ret = rknn.load_onnx(model=ONNX_MODEL)\n"
   ]
  },
  {
   "cell_type": "code",
   "execution_count": 5,
   "id": "bf89c130",
   "metadata": {},
   "outputs": [
    {
     "name": "stderr",
     "output_type": "stream",
     "text": [
      "Analysing : 100%|███████████████████████████████████████████████| 279/279 [00:00<00:00, 4468.53it/s]\n"
     ]
    }
   ],
   "source": [
    "ret = rknn.build(do_quantization=False)\n"
   ]
  },
  {
   "cell_type": "code",
   "execution_count": 6,
   "id": "014ca673",
   "metadata": {},
   "outputs": [],
   "source": [
    "ret = rknn.export_rknn(RKNN_MODEL)"
   ]
  },
  {
   "cell_type": "code",
   "execution_count": 7,
   "id": "8059e349",
   "metadata": {},
   "outputs": [],
   "source": [
    "origin_img = cv2.imread(cfg.image_path)"
   ]
  },
  {
   "cell_type": "code",
   "execution_count": 8,
   "id": "9598fd1a",
   "metadata": {},
   "outputs": [],
   "source": [
    "# mean = (0.485, 0.456, 0.406)\n",
    "# std = (0.229, 0.224, 0.225)"
   ]
  },
  {
   "cell_type": "code",
   "execution_count": 9,
   "id": "7a281aad",
   "metadata": {},
   "outputs": [],
   "source": [
    "img, ratio = preprocess(origin_img, input_shape,mean=None,std=None)"
   ]
  },
  {
   "cell_type": "code",
   "execution_count": 10,
   "id": "9e9c073a",
   "metadata": {},
   "outputs": [
    {
     "name": "stderr",
     "output_type": "stream",
     "text": [
      "\u001b[1;33mW\u001b[0m \u001b[1;33minit_runtime: target is None, use simulator!\u001b[0m\n"
     ]
    }
   ],
   "source": [
    "ret = rknn.init_runtime()"
   ]
  },
  {
   "cell_type": "code",
   "execution_count": 11,
   "id": "fedb700c",
   "metadata": {},
   "outputs": [],
   "source": [
    "outputs = rknn.inference(inputs=[img])"
   ]
  },
  {
   "cell_type": "code",
   "execution_count": 12,
   "id": "fb69a919",
   "metadata": {},
   "outputs": [
    {
     "data": {
      "text/plain": [
       "(1, 8400, 12)"
      ]
     },
     "execution_count": 12,
     "metadata": {},
     "output_type": "execute_result"
    }
   ],
   "source": [
    "outputs[0].squeeze(axis=3).shape"
   ]
  },
  {
   "cell_type": "code",
   "execution_count": 13,
   "id": "d56b7771",
   "metadata": {},
   "outputs": [
    {
     "name": "stdout",
     "output_type": "stream",
     "text": [
      "[array([[[ 0,  0],\n",
      "        [ 1,  0],\n",
      "        [ 2,  0],\n",
      "        ...,\n",
      "        [77, 79],\n",
      "        [78, 79],\n",
      "        [79, 79]]]), array([[[ 0,  0],\n",
      "        [ 1,  0],\n",
      "        [ 2,  0],\n",
      "        ...,\n",
      "        [37, 39],\n",
      "        [38, 39],\n",
      "        [39, 39]]]), array([[[ 0,  0],\n",
      "        [ 1,  0],\n",
      "        [ 2,  0],\n",
      "        [ 3,  0],\n",
      "        [ 4,  0],\n",
      "        [ 5,  0],\n",
      "        [ 6,  0],\n",
      "        [ 7,  0],\n",
      "        [ 8,  0],\n",
      "        [ 9,  0],\n",
      "        [10,  0],\n",
      "        [11,  0],\n",
      "        [12,  0],\n",
      "        [13,  0],\n",
      "        [14,  0],\n",
      "        [15,  0],\n",
      "        [16,  0],\n",
      "        [17,  0],\n",
      "        [18,  0],\n",
      "        [19,  0],\n",
      "        [ 0,  1],\n",
      "        [ 1,  1],\n",
      "        [ 2,  1],\n",
      "        [ 3,  1],\n",
      "        [ 4,  1],\n",
      "        [ 5,  1],\n",
      "        [ 6,  1],\n",
      "        [ 7,  1],\n",
      "        [ 8,  1],\n",
      "        [ 9,  1],\n",
      "        [10,  1],\n",
      "        [11,  1],\n",
      "        [12,  1],\n",
      "        [13,  1],\n",
      "        [14,  1],\n",
      "        [15,  1],\n",
      "        [16,  1],\n",
      "        [17,  1],\n",
      "        [18,  1],\n",
      "        [19,  1],\n",
      "        [ 0,  2],\n",
      "        [ 1,  2],\n",
      "        [ 2,  2],\n",
      "        [ 3,  2],\n",
      "        [ 4,  2],\n",
      "        [ 5,  2],\n",
      "        [ 6,  2],\n",
      "        [ 7,  2],\n",
      "        [ 8,  2],\n",
      "        [ 9,  2],\n",
      "        [10,  2],\n",
      "        [11,  2],\n",
      "        [12,  2],\n",
      "        [13,  2],\n",
      "        [14,  2],\n",
      "        [15,  2],\n",
      "        [16,  2],\n",
      "        [17,  2],\n",
      "        [18,  2],\n",
      "        [19,  2],\n",
      "        [ 0,  3],\n",
      "        [ 1,  3],\n",
      "        [ 2,  3],\n",
      "        [ 3,  3],\n",
      "        [ 4,  3],\n",
      "        [ 5,  3],\n",
      "        [ 6,  3],\n",
      "        [ 7,  3],\n",
      "        [ 8,  3],\n",
      "        [ 9,  3],\n",
      "        [10,  3],\n",
      "        [11,  3],\n",
      "        [12,  3],\n",
      "        [13,  3],\n",
      "        [14,  3],\n",
      "        [15,  3],\n",
      "        [16,  3],\n",
      "        [17,  3],\n",
      "        [18,  3],\n",
      "        [19,  3],\n",
      "        [ 0,  4],\n",
      "        [ 1,  4],\n",
      "        [ 2,  4],\n",
      "        [ 3,  4],\n",
      "        [ 4,  4],\n",
      "        [ 5,  4],\n",
      "        [ 6,  4],\n",
      "        [ 7,  4],\n",
      "        [ 8,  4],\n",
      "        [ 9,  4],\n",
      "        [10,  4],\n",
      "        [11,  4],\n",
      "        [12,  4],\n",
      "        [13,  4],\n",
      "        [14,  4],\n",
      "        [15,  4],\n",
      "        [16,  4],\n",
      "        [17,  4],\n",
      "        [18,  4],\n",
      "        [19,  4],\n",
      "        [ 0,  5],\n",
      "        [ 1,  5],\n",
      "        [ 2,  5],\n",
      "        [ 3,  5],\n",
      "        [ 4,  5],\n",
      "        [ 5,  5],\n",
      "        [ 6,  5],\n",
      "        [ 7,  5],\n",
      "        [ 8,  5],\n",
      "        [ 9,  5],\n",
      "        [10,  5],\n",
      "        [11,  5],\n",
      "        [12,  5],\n",
      "        [13,  5],\n",
      "        [14,  5],\n",
      "        [15,  5],\n",
      "        [16,  5],\n",
      "        [17,  5],\n",
      "        [18,  5],\n",
      "        [19,  5],\n",
      "        [ 0,  6],\n",
      "        [ 1,  6],\n",
      "        [ 2,  6],\n",
      "        [ 3,  6],\n",
      "        [ 4,  6],\n",
      "        [ 5,  6],\n",
      "        [ 6,  6],\n",
      "        [ 7,  6],\n",
      "        [ 8,  6],\n",
      "        [ 9,  6],\n",
      "        [10,  6],\n",
      "        [11,  6],\n",
      "        [12,  6],\n",
      "        [13,  6],\n",
      "        [14,  6],\n",
      "        [15,  6],\n",
      "        [16,  6],\n",
      "        [17,  6],\n",
      "        [18,  6],\n",
      "        [19,  6],\n",
      "        [ 0,  7],\n",
      "        [ 1,  7],\n",
      "        [ 2,  7],\n",
      "        [ 3,  7],\n",
      "        [ 4,  7],\n",
      "        [ 5,  7],\n",
      "        [ 6,  7],\n",
      "        [ 7,  7],\n",
      "        [ 8,  7],\n",
      "        [ 9,  7],\n",
      "        [10,  7],\n",
      "        [11,  7],\n",
      "        [12,  7],\n",
      "        [13,  7],\n",
      "        [14,  7],\n",
      "        [15,  7],\n",
      "        [16,  7],\n",
      "        [17,  7],\n",
      "        [18,  7],\n",
      "        [19,  7],\n",
      "        [ 0,  8],\n",
      "        [ 1,  8],\n",
      "        [ 2,  8],\n",
      "        [ 3,  8],\n",
      "        [ 4,  8],\n",
      "        [ 5,  8],\n",
      "        [ 6,  8],\n",
      "        [ 7,  8],\n",
      "        [ 8,  8],\n",
      "        [ 9,  8],\n",
      "        [10,  8],\n",
      "        [11,  8],\n",
      "        [12,  8],\n",
      "        [13,  8],\n",
      "        [14,  8],\n",
      "        [15,  8],\n",
      "        [16,  8],\n",
      "        [17,  8],\n",
      "        [18,  8],\n",
      "        [19,  8],\n",
      "        [ 0,  9],\n",
      "        [ 1,  9],\n",
      "        [ 2,  9],\n",
      "        [ 3,  9],\n",
      "        [ 4,  9],\n",
      "        [ 5,  9],\n",
      "        [ 6,  9],\n",
      "        [ 7,  9],\n",
      "        [ 8,  9],\n",
      "        [ 9,  9],\n",
      "        [10,  9],\n",
      "        [11,  9],\n",
      "        [12,  9],\n",
      "        [13,  9],\n",
      "        [14,  9],\n",
      "        [15,  9],\n",
      "        [16,  9],\n",
      "        [17,  9],\n",
      "        [18,  9],\n",
      "        [19,  9],\n",
      "        [ 0, 10],\n",
      "        [ 1, 10],\n",
      "        [ 2, 10],\n",
      "        [ 3, 10],\n",
      "        [ 4, 10],\n",
      "        [ 5, 10],\n",
      "        [ 6, 10],\n",
      "        [ 7, 10],\n",
      "        [ 8, 10],\n",
      "        [ 9, 10],\n",
      "        [10, 10],\n",
      "        [11, 10],\n",
      "        [12, 10],\n",
      "        [13, 10],\n",
      "        [14, 10],\n",
      "        [15, 10],\n",
      "        [16, 10],\n",
      "        [17, 10],\n",
      "        [18, 10],\n",
      "        [19, 10],\n",
      "        [ 0, 11],\n",
      "        [ 1, 11],\n",
      "        [ 2, 11],\n",
      "        [ 3, 11],\n",
      "        [ 4, 11],\n",
      "        [ 5, 11],\n",
      "        [ 6, 11],\n",
      "        [ 7, 11],\n",
      "        [ 8, 11],\n",
      "        [ 9, 11],\n",
      "        [10, 11],\n",
      "        [11, 11],\n",
      "        [12, 11],\n",
      "        [13, 11],\n",
      "        [14, 11],\n",
      "        [15, 11],\n",
      "        [16, 11],\n",
      "        [17, 11],\n",
      "        [18, 11],\n",
      "        [19, 11],\n",
      "        [ 0, 12],\n",
      "        [ 1, 12],\n",
      "        [ 2, 12],\n",
      "        [ 3, 12],\n",
      "        [ 4, 12],\n",
      "        [ 5, 12],\n",
      "        [ 6, 12],\n",
      "        [ 7, 12],\n",
      "        [ 8, 12],\n",
      "        [ 9, 12],\n",
      "        [10, 12],\n",
      "        [11, 12],\n",
      "        [12, 12],\n",
      "        [13, 12],\n",
      "        [14, 12],\n",
      "        [15, 12],\n",
      "        [16, 12],\n",
      "        [17, 12],\n",
      "        [18, 12],\n",
      "        [19, 12],\n",
      "        [ 0, 13],\n",
      "        [ 1, 13],\n",
      "        [ 2, 13],\n",
      "        [ 3, 13],\n",
      "        [ 4, 13],\n",
      "        [ 5, 13],\n",
      "        [ 6, 13],\n",
      "        [ 7, 13],\n",
      "        [ 8, 13],\n",
      "        [ 9, 13],\n",
      "        [10, 13],\n",
      "        [11, 13],\n",
      "        [12, 13],\n",
      "        [13, 13],\n",
      "        [14, 13],\n",
      "        [15, 13],\n",
      "        [16, 13],\n",
      "        [17, 13],\n",
      "        [18, 13],\n",
      "        [19, 13],\n",
      "        [ 0, 14],\n",
      "        [ 1, 14],\n",
      "        [ 2, 14],\n",
      "        [ 3, 14],\n",
      "        [ 4, 14],\n",
      "        [ 5, 14],\n",
      "        [ 6, 14],\n",
      "        [ 7, 14],\n",
      "        [ 8, 14],\n",
      "        [ 9, 14],\n",
      "        [10, 14],\n",
      "        [11, 14],\n",
      "        [12, 14],\n",
      "        [13, 14],\n",
      "        [14, 14],\n",
      "        [15, 14],\n",
      "        [16, 14],\n",
      "        [17, 14],\n",
      "        [18, 14],\n",
      "        [19, 14],\n",
      "        [ 0, 15],\n",
      "        [ 1, 15],\n",
      "        [ 2, 15],\n",
      "        [ 3, 15],\n",
      "        [ 4, 15],\n",
      "        [ 5, 15],\n",
      "        [ 6, 15],\n",
      "        [ 7, 15],\n",
      "        [ 8, 15],\n",
      "        [ 9, 15],\n",
      "        [10, 15],\n",
      "        [11, 15],\n",
      "        [12, 15],\n",
      "        [13, 15],\n",
      "        [14, 15],\n",
      "        [15, 15],\n",
      "        [16, 15],\n",
      "        [17, 15],\n",
      "        [18, 15],\n",
      "        [19, 15],\n",
      "        [ 0, 16],\n",
      "        [ 1, 16],\n",
      "        [ 2, 16],\n",
      "        [ 3, 16],\n",
      "        [ 4, 16],\n",
      "        [ 5, 16],\n",
      "        [ 6, 16],\n",
      "        [ 7, 16],\n",
      "        [ 8, 16],\n",
      "        [ 9, 16],\n",
      "        [10, 16],\n",
      "        [11, 16],\n",
      "        [12, 16],\n",
      "        [13, 16],\n",
      "        [14, 16],\n",
      "        [15, 16],\n",
      "        [16, 16],\n",
      "        [17, 16],\n",
      "        [18, 16],\n",
      "        [19, 16],\n",
      "        [ 0, 17],\n",
      "        [ 1, 17],\n",
      "        [ 2, 17],\n",
      "        [ 3, 17],\n",
      "        [ 4, 17],\n",
      "        [ 5, 17],\n",
      "        [ 6, 17],\n",
      "        [ 7, 17],\n",
      "        [ 8, 17],\n",
      "        [ 9, 17],\n",
      "        [10, 17],\n",
      "        [11, 17],\n",
      "        [12, 17],\n",
      "        [13, 17],\n",
      "        [14, 17],\n",
      "        [15, 17],\n",
      "        [16, 17],\n",
      "        [17, 17],\n",
      "        [18, 17],\n",
      "        [19, 17],\n",
      "        [ 0, 18],\n",
      "        [ 1, 18],\n",
      "        [ 2, 18],\n",
      "        [ 3, 18],\n",
      "        [ 4, 18],\n",
      "        [ 5, 18],\n",
      "        [ 6, 18],\n",
      "        [ 7, 18],\n",
      "        [ 8, 18],\n",
      "        [ 9, 18],\n",
      "        [10, 18],\n",
      "        [11, 18],\n",
      "        [12, 18],\n",
      "        [13, 18],\n",
      "        [14, 18],\n",
      "        [15, 18],\n",
      "        [16, 18],\n",
      "        [17, 18],\n",
      "        [18, 18],\n",
      "        [19, 18],\n",
      "        [ 0, 19],\n",
      "        [ 1, 19],\n",
      "        [ 2, 19],\n",
      "        [ 3, 19],\n",
      "        [ 4, 19],\n",
      "        [ 5, 19],\n",
      "        [ 6, 19],\n",
      "        [ 7, 19],\n",
      "        [ 8, 19],\n",
      "        [ 9, 19],\n",
      "        [10, 19],\n",
      "        [11, 19],\n",
      "        [12, 19],\n",
      "        [13, 19],\n",
      "        [14, 19],\n",
      "        [15, 19],\n",
      "        [16, 19],\n",
      "        [17, 19],\n",
      "        [18, 19],\n",
      "        [19, 19]]])]\n",
      "(1, 8400, 2)\n"
     ]
    }
   ],
   "source": [
    "predictions = demo_postprocess(outputs[0].squeeze(axis=3), input_shape)[0]"
   ]
  },
  {
   "cell_type": "code",
   "execution_count": 14,
   "id": "9498adee",
   "metadata": {},
   "outputs": [
    {
     "data": {
      "text/plain": [
       "array([2.7984375e+01, 9.4218750e+00, 5.4403786e+01, 2.0388855e+01,\n",
       "       3.0212402e-03, 3.0212402e-03, 3.0212402e-03, 1.0894775e-02,\n",
       "       5.0354004e-03, 9.2895508e-02, 3.3447266e-01, 1.0437012e-02],\n",
       "      dtype=float32)"
      ]
     },
     "execution_count": 14,
     "metadata": {},
     "output_type": "execute_result"
    }
   ],
   "source": [
    "predictions[2]"
   ]
  },
  {
   "cell_type": "code",
   "execution_count": 15,
   "id": "97b80556",
   "metadata": {},
   "outputs": [],
   "source": [
    "boxes = predictions[:, :4]\n",
    "scores = predictions[:, 4:5] * predictions[:, 5:]"
   ]
  },
  {
   "cell_type": "code",
   "execution_count": 16,
   "id": "7f0c69d4",
   "metadata": {},
   "outputs": [],
   "source": [
    "boxes_xyxy = np.ones_like(boxes)"
   ]
  },
  {
   "cell_type": "code",
   "execution_count": 17,
   "id": "d86be4e3",
   "metadata": {},
   "outputs": [
    {
     "data": {
      "text/plain": [
       "array([[ 6.5429688, 12.8828125, 17.87925  , 37.61087  ],\n",
       "       [22.375    , 11.484375 , 43.544243 , 25.874804 ],\n",
       "       [27.984375 ,  9.421875 , 54.403786 , 20.388855 ],\n",
       "       [33.617188 ,  4.9257812, 39.647484 , 10.950733 ],\n",
       "       [38.941406 ,  5.2539062, 64.291405 ,  9.164211 ],\n",
       "       [45.753906 ,  5.1640625, 75.753784 ,  9.032051 ]], dtype=float32)"
      ]
     },
     "execution_count": 17,
     "metadata": {},
     "output_type": "execute_result"
    }
   ],
   "source": [
    "boxes[:6]"
   ]
  },
  {
   "cell_type": "code",
   "execution_count": 18,
   "id": "0901cd29",
   "metadata": {},
   "outputs": [],
   "source": [
    "boxes_xyxy[:, 0] = boxes[:, 0] - boxes[:, 2]/2.\n",
    "boxes_xyxy[:, 1] = boxes[:, 1] - boxes[:, 3]/2.\n",
    "boxes_xyxy[:, 2] = boxes[:, 0] + boxes[:, 2]/2.\n",
    "boxes_xyxy[:, 3] = boxes[:, 1] + boxes[:, 3]/2.\n",
    "boxes_xyxy /= ratio"
   ]
  },
  {
   "cell_type": "code",
   "execution_count": 19,
   "id": "e1dd1713",
   "metadata": {},
   "outputs": [
    {
     "data": {
      "text/plain": [
       "array([[-1.8723875 , -4.627049  , 12.095777  , 24.756445  ],\n",
       "       [ 0.47099888, -1.1351771 , 34.48994   , 19.079514  ],\n",
       "       [ 0.6113142 , -0.60355663, 43.114273  , 15.325236  ],\n",
       "       [10.77613   , -0.42936355, 41.75073   ,  8.125897  ],\n",
       "       [ 5.3091435 ,  0.5248442 , 55.536808  ,  7.6843843 ],\n",
       "       [ 6.1539173 ,  0.5062789 , 65.33656   ,  7.562569  ]],\n",
       "      dtype=float32)"
      ]
     },
     "execution_count": 19,
     "metadata": {},
     "output_type": "execute_result"
    }
   ],
   "source": [
    "boxes_xyxy[:6]\n"
   ]
  },
  {
   "cell_type": "code",
   "execution_count": 20,
   "id": "e18cdff5",
   "metadata": {},
   "outputs": [],
   "source": [
    "dets = multiclass_nms(boxes_xyxy, scores, nms_thr=0.6, score_thr=0.1)"
   ]
  },
  {
   "cell_type": "code",
   "execution_count": 21,
   "id": "375af53f",
   "metadata": {},
   "outputs": [],
   "source": [
    "dets"
   ]
  },
  {
   "cell_type": "code",
   "execution_count": 22,
   "id": "d6415534",
   "metadata": {},
   "outputs": [],
   "source": [
    "if dets is not None:\n",
    "    final_boxes, final_scores, final_cls_inds = dets[:, :4], dets[:, 4], dets[:, 5]\n",
    "    origin_img = vis(origin_img, final_boxes, final_scores, final_cls_inds,\n",
    "                     conf=cfg.score_thr, class_names=cfg.COCO_CLASSES)"
   ]
  },
  {
   "cell_type": "code",
   "execution_count": 23,
   "id": "27e27a0b",
   "metadata": {},
   "outputs": [],
   "source": [
    "cv2.imshow(\"test\",origin_img)"
   ]
  },
  {
   "cell_type": "code",
   "execution_count": 25,
   "id": "1e1685e1",
   "metadata": {},
   "outputs": [
    {
     "data": {
      "text/plain": [
       "48"
      ]
     },
     "execution_count": 25,
     "metadata": {},
     "output_type": "execute_result"
    }
   ],
   "source": [
    "cv2.waitKey(0)"
   ]
  },
  {
   "cell_type": "code",
   "execution_count": null,
   "id": "19ed53c4",
   "metadata": {},
   "outputs": [],
   "source": []
  }
 ],
 "metadata": {
  "kernelspec": {
   "display_name": "Python 3",
   "language": "python",
   "name": "python3"
  },
  "language_info": {
   "codemirror_mode": {
    "name": "ipython",
    "version": 3
   },
   "file_extension": ".py",
   "mimetype": "text/x-python",
   "name": "python",
   "nbconvert_exporter": "python",
   "pygments_lexer": "ipython3",
   "version": "3.6.13"
  }
 },
 "nbformat": 4,
 "nbformat_minor": 5
}
